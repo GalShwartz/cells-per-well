{
 "cells": [
  {
   "cell_type": "code",
   "execution_count": 8,
   "metadata": {},
   "outputs": [],
   "source": [
    "## Variables\n",
    "\n",
    "cells_counts = {\"WT\": 86, \"RCL\": 56, \"BAP(J)\": 20}\n",
    "num_of_wells = 24\n",
    "dilution = 10\n",
    "tot_cells_per_uwell = 120\n",
    "num_of_uwells_per_well = 1200\n",
    "volume_per_well = 500\n",
    "\n",
    "Ratios = {\"WT\": 0.1925, \"RCL\": 0.1925, \"BAP(J)\": 0.615}\n",
    "Ratios_iTEAD4 = {\"WT\": 0.1925, \"RCL\": 0.1925, \"BAP(J)\": 0.3075, \"iTEAD4\": 0.3075}\n",
    "Ratios_Rapamycin = {\"WT\": 0.1925, \"RCL\": 0.09625,\"BAP(J)\": 0.615, \"Rapamycin\": 0.09625}\n",
    "Ratios_iTEAD4_Rapamycin = {\"WT\": 0.1925, \"RCL\": 0.09625, \"BAP(J)\": 0.3075, \"iTEAD4\": 0.3075 , \"Rapamycin\": 0.09625}"
   ]
  },
  {
   "cell_type": "code",
   "execution_count": 16,
   "metadata": {},
   "outputs": [],
   "source": [
    "## Function for all the calculations\n",
    "\n",
    "def cells_calculation(cells_counts, dilution, total_cells_per_uwell, uwell_per_well, ratio, num_of_wells, volume_per_well):\n",
    "\n",
    "    volumes = {}\n",
    "\n",
    "    for cell_type, count in cells_counts.items():\n",
    "\n",
    "        cells_per_ml = (count/4) * 10**4 * dilution\n",
    "       # print(f\"number of cells per ml: {cells_per_ml}\")\n",
    "        cell_type_ratio = ratio.get(cell_type, 1)\n",
    "       # print(f\"Ratio for {cell_type} is: {cell_type_ratio}\")\n",
    "        cells_per_well = total_cells_per_uwell * uwell_per_well * cell_type_ratio\n",
    "       # print(f\"The number of cells per well is: {cells_per_well}\")\n",
    "        total_num_of_cells = cells_per_well * (num_of_wells + 2) ## extra for pipeting errors\n",
    "       # print(f\"The total number of cells is: {total_num_of_cells}\")\n",
    "        volume_to_add = total_num_of_cells / cells_per_ml\n",
    "       # print(f\"The volume needs to add is: {volume_to_add}\")\n",
    "        volumes[cell_type] = volume_to_add * 1000\n",
    "        \n",
    "\n",
    "    print(\"The volume needed from each cell type is:\")\n",
    "    print(volumes)\n",
    "\n",
    "    media_vol = (num_of_wells + 2)*volume_per_well - sum(volumes.values())\n",
    "    print(f\"The media volume needed to add is: {media_vol}\")\n",
    "    \n",
    "    roki_volume = ((media_vol + sum(volumes.values())) / 1000) * 2 \n",
    "    print(f\"The ROCKi volume needed is: {roki_volume}\")\n",
    "\n",
    "    total_volume = media_vol + sum(volumes.values())\n",
    "    print(f\"The total volume is: {total_volume}\")\n",
    "    \n",
    "    return volumes"
   ]
  },
  {
   "cell_type": "code",
   "execution_count": 17,
   "metadata": {},
   "outputs": [
    {
     "name": "stdout",
     "output_type": "stream",
     "text": [
      "The volume needed from each cell type is:\n",
      "{'WT': 335.21860465116276, 'RCL': 514.8000000000001, 'BAP(J)': 4605.12}\n",
      "The media volume needed to add is: 7544.8613953488375\n",
      "The ROCKi volume needed is: 26.0\n",
      "The total volume is: 13000.0\n"
     ]
    }
   ],
   "source": [
    "\n",
    "volume_needed = cells_calculation(cells_counts, dilution, tot_cells_per_uwell, num_of_uwells_per_well, Ratios, num_of_wells, volume_per_well)\n"
   ]
  }
 ],
 "metadata": {
  "kernelspec": {
   "display_name": "base",
   "language": "python",
   "name": "python3"
  },
  "language_info": {
   "codemirror_mode": {
    "name": "ipython",
    "version": 3
   },
   "file_extension": ".py",
   "mimetype": "text/x-python",
   "name": "python",
   "nbconvert_exporter": "python",
   "pygments_lexer": "ipython3",
   "version": "3.11.5"
  }
 },
 "nbformat": 4,
 "nbformat_minor": 2
}
