{
 "cells": [
  {
   "cell_type": "code",
   "execution_count": 29,
   "metadata": {},
   "outputs": [],
   "source": [
    "## Variables\n",
    "\n",
    "cells_counts = {\"WT\": 86, \"RCL\": 56, \"BAP(J)\": 20}\n",
    "num_of_wells = 24\n",
    "dilution = 10\n",
    "tot_cells_per_uwell = 120\n",
    "num_of_uwells_per_well = 1200\n",
    "\n",
    "Ratios = {\"WT\": 0.1925, \"RCL\": 0.1925, \"BAP(J)\": 0.6125}\n",
    "Ratios_iTEAD4 = {\"WT\": 0.1925, \"RCL\": 0.1925, \"BAP(J)\": 0.30625, \"iTEAD4\": 0.30625}\n",
    "Ratios_Rapamycin = {\"WT\": 0.1925, \"RCL\": 0.09625,\"BAP(J)\": 0.6125, \"Rapamycin\": 0.09625}\n",
    "Ratios_iTEAD4_Rapamycin = {\"WT\": 0.1925, \"RCL\": 0.09625, \"BAP(J)\": 0.30625, \"iTEAD4\": 0.30625 , \"Rapamycin\": 0.09625}"
   ]
  },
  {
   "cell_type": "code",
   "execution_count": 42,
   "metadata": {},
   "outputs": [],
   "source": [
    "## Function for all the calculations\n",
    "\n",
    "def cells_calculation(cells_counts, dilution, total_cells_per_uwell, uwell_per_well, ratio, num_of_wells):\n",
    "\n",
    "    volumes = {}\n",
    "\n",
    "    for cell_type, count in cells_counts.items():\n",
    "\n",
    "        cells_per_ml = (count/4) * 10**4 * dilution\n",
    "        print(f\"number of cells per ml: {cells_per_ml}\")\n",
    "        cell_type_ratio = ratio.get(cell_type, 1)\n",
    "        print(f\"Ratio for {cell_type} is: {cell_type_ratio}\")\n",
    "        cells_per_well = total_cells_per_uwell * uwell_per_well * cell_type_ratio\n",
    "        print(f\"The number of cells per well is: {cells_per_well}\")\n",
    "        total_num_of_cells = cells_per_well * (num_of_wells + 2) ## extra for pipeting errors\n",
    "        print(f\"The total number of cells is: {total_num_of_cells}\")\n",
    "        volume_to_add = total_num_of_cells / cells_per_ml\n",
    "        print(f\"The volume needs to add is: {volume_to_add}\")\n",
    "        volumes[cell_type] = volume_to_add * 1000\n",
    "        print(volumes)\n",
    "        \n",
    "    return volumes"
   ]
  },
  {
   "cell_type": "code",
   "execution_count": 43,
   "metadata": {},
   "outputs": [
    {
     "name": "stdout",
     "output_type": "stream",
     "text": [
      "number of cells per ml: 2150000.0\n",
      "Ratio for WT is: 0.1925\n",
      "The number of cells per well is: 27720.0\n",
      "The total number of cells is: 720720.0\n",
      "The volume needs to add is: 0.33521860465116277\n",
      "{'WT': 335.21860465116276}\n",
      "number of cells per ml: 1400000.0\n",
      "Ratio for RCL is: 0.1925\n",
      "The number of cells per well is: 27720.0\n",
      "The total number of cells is: 720720.0\n",
      "The volume needs to add is: 0.5148\n",
      "{'WT': 335.21860465116276, 'RCL': 514.8000000000001}\n",
      "number of cells per ml: 500000.0\n",
      "Ratio for BAP(J) is: 0.6125\n",
      "The number of cells per well is: 88200.0\n",
      "The total number of cells is: 2293200.0\n",
      "The volume needs to add is: 4.5864\n",
      "{'WT': 335.21860465116276, 'RCL': 514.8000000000001, 'BAP(J)': 4586.400000000001}\n"
     ]
    }
   ],
   "source": [
    "\n",
    "volume_needed = cells_calculation(cells_counts, dilution, tot_cells_per_uwell, num_of_uwells_per_well, Ratios, num_of_wells)\n"
   ]
  },
  {
   "cell_type": "code",
   "execution_count": 44,
   "metadata": {},
   "outputs": [
    {
     "name": "stdout",
     "output_type": "stream",
     "text": [
      "Volume to add for WT: 335.22 uL\n",
      "Volume to add for RCL: 514.80 uL\n",
      "Volume to add for BAP(J): 4586.40 uL\n"
     ]
    }
   ],
   "source": [
    "for cell_type, volume in volume_needed.items():\n",
    "    print(f\"Volume to add for {cell_type}: {volume:.2f} uL\")"
   ]
  }
 ],
 "metadata": {
  "kernelspec": {
   "display_name": "base",
   "language": "python",
   "name": "python3"
  },
  "language_info": {
   "codemirror_mode": {
    "name": "ipython",
    "version": 3
   },
   "file_extension": ".py",
   "mimetype": "text/x-python",
   "name": "python",
   "nbconvert_exporter": "python",
   "pygments_lexer": "ipython3",
   "version": "3.11.5"
  }
 },
 "nbformat": 4,
 "nbformat_minor": 2
}
